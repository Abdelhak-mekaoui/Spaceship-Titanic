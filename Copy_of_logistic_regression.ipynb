{
  "nbformat": 4,
  "nbformat_minor": 0,
  "metadata": {
    "colab": {
      "provenance": [],
      "machine_shape": "hm",
      "include_colab_link": true
    },
    "kernelspec": {
      "name": "python3",
      "display_name": "Python 3"
    }
  },
  "cells": [
    {
      "cell_type": "markdown",
      "metadata": {
        "id": "view-in-github",
        "colab_type": "text"
      },
      "source": [
        "<a href=\"https://colab.research.google.com/github/Abdelhak-mekaoui/Spaceship-Titanic/blob/main/Copy_of_logistic_regression.ipynb\" target=\"_parent\"><img src=\"https://colab.research.google.com/assets/colab-badge.svg\" alt=\"Open In Colab\"/></a>"
      ]
    },
    {
      "cell_type": "markdown",
      "metadata": {
        "id": "0MRC0e0KhQ0S"
      },
      "source": [
        "# Spaceship Titanic"
      ]
    },
    {
      "cell_type": "markdown",
      "metadata": {
        "id": "LWd1UlMnhT2s"
      },
      "source": [
        "## Importing the libraries"
      ]
    },
    {
      "cell_type": "code",
      "metadata": {
        "id": "YvGPUQaHhXfL"
      },
      "source": [
        "import numpy as np\n",
        "import matplotlib.pyplot as plt\n",
        "import pandas as pd"
      ],
      "execution_count": null,
      "outputs": []
    },
    {
      "cell_type": "markdown",
      "metadata": {
        "id": "K1VMqkGvhc3-"
      },
      "source": [
        "## Importing the dataset"
      ]
    },
    {
      "cell_type": "code",
      "metadata": {
        "id": "M52QDmyzhh9s"
      },
      "source": [
        "train_data = pd.read_csv('train.csv')\n",
        "test_data = pd.read_csv('test.csv')\n",
        "sample_submission = pd.read_csv('sample_submission.csv')\n"
      ],
      "execution_count": null,
      "outputs": []
    },
    {
      "cell_type": "code",
      "source": [
        "X = train_data.iloc[:,1:-2].values\n",
        "y = train_data.iloc[:,-1].values\n",
        "X_test = test_data.iloc[:,1:-1].values"
      ],
      "metadata": {
        "id": "ugUPi7FrftRk"
      },
      "execution_count": null,
      "outputs": []
    },
    {
      "cell_type": "markdown",
      "source": [
        "# Dealing with missing values"
      ],
      "metadata": {
        "id": "AO-UNtGdgio9"
      }
    },
    {
      "cell_type": "code",
      "source": [
        "train_data.isnull().sum()"
      ],
      "metadata": {
        "colab": {
          "base_uri": "https://localhost:8080/"
        },
        "id": "MnfCJR1vgnb-",
        "outputId": "b59c639b-639a-49da-c6ee-1073d5fafe96"
      },
      "execution_count": null,
      "outputs": [
        {
          "output_type": "execute_result",
          "data": {
            "text/plain": [
              "PassengerId       0\n",
              "HomePlanet      201\n",
              "CryoSleep       217\n",
              "Cabin           199\n",
              "Destination     182\n",
              "Age             179\n",
              "VIP             203\n",
              "RoomService     181\n",
              "FoodCourt       183\n",
              "ShoppingMall    208\n",
              "Spa             183\n",
              "VRDeck          188\n",
              "Name            200\n",
              "Transported       0\n",
              "dtype: int64"
            ]
          },
          "metadata": {},
          "execution_count": 187
        }
      ]
    },
    {
      "cell_type": "code",
      "source": [
        "train_data.info()"
      ],
      "metadata": {
        "colab": {
          "base_uri": "https://localhost:8080/"
        },
        "id": "-w9zxvVig_5D",
        "outputId": "5cb19996-3b4d-466f-8242-6464e89b02fb"
      },
      "execution_count": null,
      "outputs": [
        {
          "output_type": "stream",
          "name": "stdout",
          "text": [
            "<class 'pandas.core.frame.DataFrame'>\n",
            "RangeIndex: 8693 entries, 0 to 8692\n",
            "Data columns (total 14 columns):\n",
            " #   Column        Non-Null Count  Dtype  \n",
            "---  ------        --------------  -----  \n",
            " 0   PassengerId   8693 non-null   object \n",
            " 1   HomePlanet    8492 non-null   object \n",
            " 2   CryoSleep     8476 non-null   object \n",
            " 3   Cabin         8494 non-null   object \n",
            " 4   Destination   8511 non-null   object \n",
            " 5   Age           8514 non-null   float64\n",
            " 6   VIP           8490 non-null   object \n",
            " 7   RoomService   8512 non-null   float64\n",
            " 8   FoodCourt     8510 non-null   float64\n",
            " 9   ShoppingMall  8485 non-null   float64\n",
            " 10  Spa           8510 non-null   float64\n",
            " 11  VRDeck        8505 non-null   float64\n",
            " 12  Name          8493 non-null   object \n",
            " 13  Transported   8693 non-null   bool   \n",
            "dtypes: bool(1), float64(6), object(7)\n",
            "memory usage: 891.5+ KB\n"
          ]
        }
      ]
    },
    {
      "cell_type": "code",
      "source": [
        "from sklearn.impute import SimpleImputer\n",
        "imputer = SimpleImputer(missing_values=np.nan,strategy='most_frequent')\n",
        "imputer.fit(X)\n",
        "X = imputer.transform(X)\n",
        "X_test = imputer.transform(X_test)"
      ],
      "metadata": {
        "id": "YRlgOd8vipFy"
      },
      "execution_count": null,
      "outputs": []
    },
    {
      "cell_type": "code",
      "source": [
        "print(X.shape)"
      ],
      "metadata": {
        "colab": {
          "base_uri": "https://localhost:8080/"
        },
        "id": "FQM_L6gykTWo",
        "outputId": "865214e3-0456-487e-bc14-d3497d15f5a2"
      },
      "execution_count": null,
      "outputs": [
        {
          "output_type": "stream",
          "name": "stdout",
          "text": [
            "(8693, 11)\n"
          ]
        }
      ]
    },
    {
      "cell_type": "markdown",
      "source": [
        "# OneHotEncoding & feature scaling"
      ],
      "metadata": {
        "id": "K2UsHsZ_mZKv"
      }
    },
    {
      "cell_type": "code",
      "source": [
        "categorical_columns = [0,1,2,3,5]\n",
        "numerical_columns = [4,6,7,8,9,10]"
      ],
      "metadata": {
        "id": "T2nnQdsdlf_b"
      },
      "execution_count": null,
      "outputs": []
    },
    {
      "cell_type": "code",
      "source": [
        "from sklearn.preprocessing import OneHotEncoder,StandardScaler,LabelEncoder\n",
        "from sklearn.compose import ColumnTransformer\n",
        "#Encoding and scaling the input variable\n",
        "ct = ColumnTransformer(transformers=[('encoder',OneHotEncoder(handle_unknown='ignore', sparse=False),categorical_columns)\n",
        "                                     ,('scaler',StandardScaler(),numerical_columns)]\n",
        "                       ,remainder='passthrough')\n",
        "ct.fit(np.concatenate((X,X_test)))\n",
        "X = np.array(ct.transform(X))\n",
        "X_test = np.array(ct.transform(X_test))\n",
        "#Encoding the dependent variable\n",
        "le = LabelEncoder()\n",
        "y = le.fit_transform(y)\n"
      ],
      "metadata": {
        "id": "y3vZ8IjFml4r"
      },
      "execution_count": null,
      "outputs": []
    },
    {
      "cell_type": "code",
      "source": [
        "print(X.shape)"
      ],
      "metadata": {
        "colab": {
          "base_uri": "https://localhost:8080/"
        },
        "id": "o_GvBcEupH5r",
        "outputId": "e34a38b2-d1a2-402d-d773-34d2a3e3afca"
      },
      "execution_count": null,
      "outputs": [
        {
          "output_type": "stream",
          "name": "stdout",
          "text": [
            "(8693, 9841)\n"
          ]
        }
      ]
    },
    {
      "cell_type": "code",
      "source": [
        "df1 = pd.DataFrame(X)\n",
        "df2 = pd.DataFrame(X_test)\n",
        "\n",
        "# Remove duplicate columns\n",
        "df1 = df1.loc[:, ~df1.columns.duplicated()]\n",
        "df2 = df2.loc[:, ~df2.columns.duplicated()]\n",
        "# Convert pandas dataframe back to numpy array\n",
        "X = df1.to_numpy()\n",
        "X_test = df2.to_numpy()"
      ],
      "metadata": {
        "id": "SFT1_Bl6pMu9"
      },
      "execution_count": null,
      "outputs": []
    },
    {
      "cell_type": "code",
      "source": [
        "print(X.shape)"
      ],
      "metadata": {
        "colab": {
          "base_uri": "https://localhost:8080/"
        },
        "id": "JZCtY_jbvNcU",
        "outputId": "7afbc9aa-1b3e-49be-8406-534a6eeaa91a"
      },
      "execution_count": null,
      "outputs": [
        {
          "output_type": "stream",
          "name": "stdout",
          "text": [
            "(8693, 9841)\n"
          ]
        }
      ]
    },
    {
      "cell_type": "markdown",
      "source": [
        "# Spliting the data"
      ],
      "metadata": {
        "id": "AcTb--ei0cyU"
      }
    },
    {
      "cell_type": "code",
      "source": [
        "from sklearn.model_selection import train_test_split\n",
        "X_train, X_cv, y_train, y_cv = train_test_split(X, y, test_size = 0.20, random_state = 0)"
      ],
      "metadata": {
        "id": "6yuJEaYrvOL8"
      },
      "execution_count": null,
      "outputs": []
    },
    {
      "cell_type": "markdown",
      "source": [
        "# Models\n"
      ],
      "metadata": {
        "id": "ZEyQ6PNz0VTx"
      }
    },
    {
      "cell_type": "markdown",
      "source": [
        "**Logistic Regression**"
      ],
      "metadata": {
        "id": "M-kTZ0al3nkK"
      }
    },
    {
      "cell_type": "code",
      "source": [
        "from sklearn.linear_model import LogisticRegression\n",
        "classifier1 = LogisticRegression(random_state = 0)\n",
        "classifier1.fit(X_train, y_train)"
      ],
      "metadata": {
        "colab": {
          "base_uri": "https://localhost:8080/"
        },
        "id": "7Texs_YN0wxA",
        "outputId": "2279aac4-37ba-49a4-bb78-2a9ea07954a9"
      },
      "execution_count": null,
      "outputs": [
        {
          "output_type": "execute_result",
          "data": {
            "text/plain": [
              "LogisticRegression(random_state=0)"
            ]
          },
          "metadata": {},
          "execution_count": 197
        }
      ]
    },
    {
      "cell_type": "code",
      "source": [
        "from sklearn.metrics import confusion_matrix, accuracy_score\n",
        "y_pred_train = classifier1.predict(X_train) \n",
        "y_pred_cv = classifier1.predict(X_cv)\n",
        "\n",
        "print(confusion_matrix(y_train, y_pred_train))\n",
        "accuracy_score(y_train, y_pred_train)\n",
        "print(confusion_matrix(y_cv, y_pred_cv))\n",
        "accuracy_score(y_cv, y_pred_cv)"
      ],
      "metadata": {
        "colab": {
          "base_uri": "https://localhost:8080/"
        },
        "id": "2FQptedy36Qo",
        "outputId": "6725906b-41e1-41e5-f379-63625bb328e2"
      },
      "execution_count": null,
      "outputs": [
        {
          "output_type": "stream",
          "name": "stdout",
          "text": [
            "[[2901  551]\n",
            " [ 413 3089]]\n",
            "[[661 202]\n",
            " [184 692]]\n"
          ]
        },
        {
          "output_type": "execute_result",
          "data": {
            "text/plain": [
              "0.7780333525014376"
            ]
          },
          "metadata": {},
          "execution_count": 198
        }
      ]
    },
    {
      "cell_type": "markdown",
      "source": [
        "**Random forest**"
      ],
      "metadata": {
        "id": "14-lEO2_44Xf"
      }
    },
    {
      "cell_type": "code",
      "source": [
        "from sklearn.ensemble import RandomForestClassifier\n",
        "classifier2 = RandomForestClassifier(n_estimators = 20, criterion = 'entropy', random_state = 0)\n",
        "classifier2.fit(X_train, y_train)"
      ],
      "metadata": {
        "colab": {
          "base_uri": "https://localhost:8080/"
        },
        "id": "s75y9nBB43Sv",
        "outputId": "91353bfa-5a94-44ad-e902-e106e94c51e6"
      },
      "execution_count": null,
      "outputs": [
        {
          "output_type": "execute_result",
          "data": {
            "text/plain": [
              "RandomForestClassifier(criterion='entropy', n_estimators=80, random_state=0)"
            ]
          },
          "metadata": {},
          "execution_count": 201
        }
      ]
    },
    {
      "cell_type": "code",
      "source": [
        "y_pred_train2 = classifier2.predict(X_train) \n",
        "y_pred_cv2 = classifier2.predict(X_cv)\n",
        "\n",
        "print(confusion_matrix(y_train, y_pred_train2))\n",
        "accuracy_score(y_train, y_pred_train2)\n",
        "print(confusion_matrix(y_cv, y_pred_cv2))\n",
        "accuracy_score(y_cv, y_pred_cv2)"
      ],
      "metadata": {
        "colab": {
          "base_uri": "https://localhost:8080/"
        },
        "id": "J1FwtXuJ4vRI",
        "outputId": "3ba66e54-1783-49b2-a0cb-5174e55b8a04"
      },
      "execution_count": null,
      "outputs": [
        {
          "output_type": "stream",
          "name": "stdout",
          "text": [
            "[[3449    3]\n",
            " [   3 3499]]\n",
            "[[684 179]\n",
            " [209 667]]\n"
          ]
        },
        {
          "output_type": "execute_result",
          "data": {
            "text/plain": [
              "0.7768832662449684"
            ]
          },
          "metadata": {},
          "execution_count": 202
        }
      ]
    },
    {
      "cell_type": "markdown",
      "source": [
        "**Naive Bayes** "
      ],
      "metadata": {
        "id": "Qpm7_hRS5sBa"
      }
    },
    {
      "cell_type": "code",
      "source": [
        "from sklearn.naive_bayes import GaussianNB\n",
        "classifier3 = GaussianNB()\n",
        "classifier3.fit(X_train, y_train)"
      ],
      "metadata": {
        "colab": {
          "base_uri": "https://localhost:8080/"
        },
        "id": "rWjtW1gy5ZCK",
        "outputId": "c148c23b-ef51-4618-bb50-7ae9ff5b8698"
      },
      "execution_count": null,
      "outputs": [
        {
          "output_type": "execute_result",
          "data": {
            "text/plain": [
              "GaussianNB()"
            ]
          },
          "metadata": {},
          "execution_count": 203
        }
      ]
    },
    {
      "cell_type": "code",
      "source": [
        "y_pred_train3 = classifier3.predict(X_train) \n",
        "y_pred_cv3 = classifier3.predict(X_cv)\n",
        "\n",
        "print(\"Results on training set\")\n",
        "print(confusion_matrix(y_train, y_pred_train3))\n",
        "accuracy_score(y_train, y_pred_train3)\n",
        "print(\"Results on cross validation set\")\n",
        "print(confusion_matrix(y_cv, y_pred_cv3))\n",
        "accuracy_score(y_cv, y_pred_cv3)"
      ],
      "metadata": {
        "colab": {
          "base_uri": "https://localhost:8080/"
        },
        "id": "1Ha9RvBI57BW",
        "outputId": "171e72b0-2f85-4d41-c45b-661e905ab915"
      },
      "execution_count": null,
      "outputs": [
        {
          "output_type": "stream",
          "name": "stdout",
          "text": [
            "Results on training set\n",
            "[[2782  670]\n",
            " [   1 3501]]\n",
            "Results on cross validation set\n",
            "[[ 62 801]\n",
            " [ 84 792]]\n"
          ]
        },
        {
          "output_type": "execute_result",
          "data": {
            "text/plain": [
              "0.49108683151236343"
            ]
          },
          "metadata": {},
          "execution_count": 205
        }
      ]
    },
    {
      "cell_type": "markdown",
      "source": [
        "**K-Nearest Neighbors**"
      ],
      "metadata": {
        "id": "NoxUm3P66o-r"
      }
    },
    {
      "cell_type": "code",
      "source": [
        "from sklearn.neighbors import KNeighborsClassifier\n",
        "classifier4 = KNeighborsClassifier(n_neighbors = 10, metric = 'minkowski', p = 2)\n",
        "classifier4.fit(X_train, y_train)"
      ],
      "metadata": {
        "colab": {
          "base_uri": "https://localhost:8080/"
        },
        "id": "uvlY8Bbw6JnE",
        "outputId": "afd834a9-52bc-40d9-e59b-4043f66e649a"
      },
      "execution_count": null,
      "outputs": [
        {
          "output_type": "execute_result",
          "data": {
            "text/plain": [
              "KNeighborsClassifier(n_neighbors=10)"
            ]
          },
          "metadata": {},
          "execution_count": 206
        }
      ]
    },
    {
      "cell_type": "code",
      "source": [
        "y_pred_train4 = classifier4.predict(X_train) \n",
        "y_pred_cv4 = classifier4.predict(X_cv)\n",
        "\n",
        "print(\"Results on training set\")\n",
        "print(confusion_matrix(y_train, y_pred_train4))\n",
        "accuracy_score(y_train, y_pred_train4)\n",
        "print(\"Results on cross validation set\")\n",
        "print(confusion_matrix(y_cv, y_pred_cv4))\n",
        "accuracy_score(y_cv, y_pred_cv4)"
      ],
      "metadata": {
        "colab": {
          "base_uri": "https://localhost:8080/"
        },
        "id": "A5URaRKS622f",
        "outputId": "c37ff324-3e70-4b64-f752-ac30c6bd0308"
      },
      "execution_count": null,
      "outputs": [
        {
          "output_type": "stream",
          "name": "stdout",
          "text": [
            "Results on training set\n",
            "[[2888  564]\n",
            " [ 755 2747]]\n",
            "Results on cross validation set\n",
            "[[678 185]\n",
            " [208 668]]\n"
          ]
        },
        {
          "output_type": "execute_result",
          "data": {
            "text/plain": [
              "0.7740080506037953"
            ]
          },
          "metadata": {},
          "execution_count": 207
        }
      ]
    },
    {
      "cell_type": "markdown",
      "source": [
        "**Kernel SVM**"
      ],
      "metadata": {
        "id": "bHSMGKZ17RBv"
      }
    },
    {
      "cell_type": "code",
      "source": [
        "from sklearn.svm import SVC\n",
        "classifier5 = SVC(kernel = 'rbf', random_state = 0)\n",
        "classifier5.fit(X_train, y_train)"
      ],
      "metadata": {
        "colab": {
          "base_uri": "https://localhost:8080/"
        },
        "id": "WhzxA2nX6_ni",
        "outputId": "a9b6e2b3-465f-4079-f899-e00bd118657b"
      },
      "execution_count": null,
      "outputs": [
        {
          "output_type": "execute_result",
          "data": {
            "text/plain": [
              "SVC(random_state=0)"
            ]
          },
          "metadata": {},
          "execution_count": 208
        }
      ]
    },
    {
      "cell_type": "code",
      "source": [
        "y_pred_train5 = classifier5.predict(X_train) \n",
        "y_pred_cv5 = classifier5.predict(X_cv)\n",
        "\n",
        "print(\"Results on training set\")\n",
        "print(confusion_matrix(y_train, y_pred_train5))\n",
        "accuracy_score(y_train, y_pred_train5)\n",
        "print(\"Results on cross validation set\")\n",
        "print(confusion_matrix(y_cv, y_pred_cv5))\n",
        "accuracy_score(y_cv, y_pred_cv5)"
      ],
      "metadata": {
        "colab": {
          "base_uri": "https://localhost:8080/"
        },
        "id": "1sElzt9O7Xam",
        "outputId": "8a2eafa9-4555-499f-f416-d8168f09ccdf"
      },
      "execution_count": null,
      "outputs": [
        {
          "output_type": "stream",
          "name": "stdout",
          "text": [
            "Results on training set\n",
            "[[2807  645]\n",
            " [ 592 2910]]\n",
            "Results on cross validation set\n",
            "[[670 193]\n",
            " [198 678]]\n"
          ]
        },
        {
          "output_type": "execute_result",
          "data": {
            "text/plain": [
              "0.7751581368602645"
            ]
          },
          "metadata": {},
          "execution_count": 210
        }
      ]
    },
    {
      "cell_type": "markdown",
      "source": [
        "**Support Vector Machine**"
      ],
      "metadata": {
        "id": "CJL-BdSg9G9W"
      }
    },
    {
      "cell_type": "code",
      "source": [
        "from sklearn.svm import SVC\n",
        "classifier6 = SVC(kernel = 'linear', random_state = 0)\n",
        "classifier6.fit(X_train, y_train)"
      ],
      "metadata": {
        "colab": {
          "base_uri": "https://localhost:8080/"
        },
        "id": "mmaXoXdx8Y6I",
        "outputId": "84ec7cea-f083-4215-ce60-0044fa9526b0"
      },
      "execution_count": null,
      "outputs": [
        {
          "output_type": "execute_result",
          "data": {
            "text/plain": [
              "SVC(kernel='linear', random_state=0)"
            ]
          },
          "metadata": {},
          "execution_count": 211
        }
      ]
    },
    {
      "cell_type": "code",
      "source": [
        "y_pred_train6 = classifier6.predict(X_train) \n",
        "y_pred_cv6 = classifier6.predict(X_cv)\n",
        "\n",
        "print(\"Results on training set\")\n",
        "print(confusion_matrix(y_train, y_pred_train6))\n",
        "accuracy_score(y_train, y_pred_train6)\n",
        "print(\"Results on cross validation set\")\n",
        "print(confusion_matrix(y_cv, y_pred_cv6))\n",
        "accuracy_score(y_cv, y_pred_cv6)"
      ],
      "metadata": {
        "colab": {
          "base_uri": "https://localhost:8080/"
        },
        "id": "WP42hmon9MQM",
        "outputId": "66748020-6dde-4c75-9cba-9f07ee17ce6c"
      },
      "execution_count": null,
      "outputs": [
        {
          "output_type": "stream",
          "name": "stdout",
          "text": [
            "Results on training set\n",
            "[[3320  132]\n",
            " [ 184 3318]]\n",
            "Results on cross validation set\n",
            "[[659 204]\n",
            " [198 678]]\n"
          ]
        },
        {
          "output_type": "execute_result",
          "data": {
            "text/plain": [
              "0.7688326624496837"
            ]
          },
          "metadata": {},
          "execution_count": 212
        }
      ]
    },
    {
      "cell_type": "markdown",
      "source": [
        "**Decision Tree**"
      ],
      "metadata": {
        "id": "zLoL87If9pnK"
      }
    },
    {
      "cell_type": "code",
      "source": [
        "from sklearn.tree import DecisionTreeClassifier\n",
        "classifier7 = DecisionTreeClassifier(criterion = 'entropy', random_state = 0)\n",
        "classifier7.fit(X_train, y_train)"
      ],
      "metadata": {
        "colab": {
          "base_uri": "https://localhost:8080/"
        },
        "id": "osG0myZ09vnR",
        "outputId": "56b0150a-26fd-45e3-b7d7-673c5697e61e"
      },
      "execution_count": null,
      "outputs": [
        {
          "output_type": "execute_result",
          "data": {
            "text/plain": [
              "DecisionTreeClassifier(criterion='entropy', random_state=0)"
            ]
          },
          "metadata": {},
          "execution_count": 213
        }
      ]
    },
    {
      "cell_type": "code",
      "source": [
        "y_pred_train7 = classifier7.predict(X_train) \n",
        "y_pred_cv7 = classifier7.predict(X_cv)\n",
        "\n",
        "print(\"Results on training set\")\n",
        "print(confusion_matrix(y_train, y_pred_train7))\n",
        "accuracy_score(y_train, y_pred_train7)\n",
        "print(\"Results on cross validation set\")\n",
        "print(confusion_matrix(y_cv, y_pred_cv7))\n",
        "accuracy_score(y_cv, y_pred_cv7)"
      ],
      "metadata": {
        "colab": {
          "base_uri": "https://localhost:8080/"
        },
        "id": "3q4VGDMr9y2B",
        "outputId": "5fb9c354-c2f3-4ccf-a1fd-12e204c88e54"
      },
      "execution_count": null,
      "outputs": [
        {
          "output_type": "stream",
          "name": "stdout",
          "text": [
            "Results on training set\n",
            "[[3452    0]\n",
            " [   5 3497]]\n",
            "Results on cross validation set\n",
            "[[605 258]\n",
            " [177 699]]\n"
          ]
        },
        {
          "output_type": "execute_result",
          "data": {
            "text/plain": [
              "0.7498562392179413"
            ]
          },
          "metadata": {},
          "execution_count": 214
        }
      ]
    },
    {
      "cell_type": "code",
      "source": [],
      "metadata": {
        "id": "KPBiEhCBCL8u"
      },
      "execution_count": null,
      "outputs": []
    }
  ]
}